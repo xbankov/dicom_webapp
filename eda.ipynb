{
 "cells": [
  {
   "cell_type": "code",
   "execution_count": 7,
   "metadata": {},
   "outputs": [],
   "source": [
    "from pydicom import dcmread\n",
    "import numpy as np"
   ]
  },
  {
   "cell_type": "code",
   "execution_count": 8,
   "metadata": {},
   "outputs": [],
   "source": [
    "def calculate_volume(pixel_data, threshold):\n",
    "    thresholded_pixels = np.where(pixel_data > threshold, 1, 0)\n",
    "    volume = np.sum(thresholded_pixels)\n",
    "    return int(volume)"
   ]
  },
  {
   "cell_type": "code",
   "execution_count": 16,
   "metadata": {},
   "outputs": [],
   "source": [
    "# 143,280.029 mm3"
   ]
  },
  {
   "cell_type": "code",
   "execution_count": 29,
   "metadata": {},
   "outputs": [],
   "source": [
    "threshold = 0.5\n",
    "dicom_file = dcmread(\"1-101.dcm\")\n",
    "pixel_data = dicom_file.pixel_array.astype(float)\n",
    "normalized_pixel_data = (pixel_data - np.min(pixel_data)) / (\n",
    "    np.max(pixel_data) - np.min(pixel_data)\n",
    ")\n",
    "\n",
    "thresholded_pixels = np.where(normalized_pixel_data > threshold, 1, 0)\n",
    "volume = np.sum(thresholded_pixels)\n",
    "\n",
    "# volume = calculate_volume(normalized_pixel_data, threshold)"
   ]
  },
  {
   "cell_type": "code",
   "execution_count": null,
   "metadata": {},
   "outputs": [],
   "source": [
    "def calculate_volume(dicom_file):"
   ]
  },
  {
   "cell_type": "code",
   "execution_count": 31,
   "metadata": {},
   "outputs": [
    {
     "name": "stdout",
     "output_type": "stream",
     "text": [
      "Volume (mm^3): 143280.029296875\n"
     ]
    }
   ],
   "source": [
    "import pydicom\n",
    "import numpy as np\n",
    "\n",
    "# Load the DICOM file\n",
    "dicom_file = pydicom.dcmread(\"1-101.dcm\")\n",
    "\n",
    "# Extract pixel data as a NumPy array and convert to float\n",
    "pixel_data = dicom_file.pixel_array.astype(float)\n",
    "\n",
    "# Extract physical spacing information (in millimeters)\n",
    "spacing_x, spacing_y = float(dicom_file.PixelSpacing[0]), float(dicom_file.PixelSpacing[1])\n",
    "slice_thickness = float(dicom_file.SliceThickness) if hasattr(dicom_file, \"SliceThickness\") else 1.0\n",
    "\n",
    "# Calculate the volume scaling factor based on pixel size and slice thickness\n",
    "voxel_volume = spacing_x * spacing_y * slice_thickness\n",
    "\n",
    "# Normalize pixel data to [0, 1] range\n",
    "min_value = np.min(pixel_data)\n",
    "max_value = np.max(pixel_data)\n",
    "normalized_pixel_data = (pixel_data - min_value) / (max_value - min_value)\n",
    "\n",
    "# Define the threshold (e.g., 0.5)\n",
    "threshold = 0.5\n",
    "\n",
    "# Threshold the normalized pixel data\n",
    "thresholded_pixels = np.where(normalized_pixel_data > threshold, 1, 0)\n",
    "\n",
    "# Calculate the volume (in mm^3) based on thresholded voxel counts\n",
    "volume_mm3 = np.sum(thresholded_pixels) * voxel_volume\n",
    "\n",
    "print(\"Volume (mm^3):\", volume_mm3)"
   ]
  }
 ],
 "metadata": {
  "kernelspec": {
   "display_name": "dicom_webapp",
   "language": "python",
   "name": "python3"
  },
  "language_info": {
   "codemirror_mode": {
    "name": "ipython",
    "version": 3
   },
   "file_extension": ".py",
   "mimetype": "text/x-python",
   "name": "python",
   "nbconvert_exporter": "python",
   "pygments_lexer": "ipython3",
   "version": "3.11.5"
  },
  "orig_nbformat": 4
 },
 "nbformat": 4,
 "nbformat_minor": 2
}
